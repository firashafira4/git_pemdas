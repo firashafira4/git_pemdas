{
 "cells": [
  {
   "cell_type": "code",
   "execution_count": 3,
   "metadata": {},
   "outputs": [
    {
     "name": "stdout",
     "output_type": "stream",
     "text": [
      "i: 0 \n",
      "total: 0 \n",
      "i: 1 \n",
      "total: 1 \n",
      "i: 2 \n",
      "total: 3 \n",
      "i: 3 \n",
      "total: 6 \n",
      "i: 4 \n",
      "total: 10 \n",
      "i: 5 \n",
      "total: 15 \n",
      "i: 6 \n",
      "total: 21 \n",
      "i: 7 \n",
      "total: 28 \n",
      "i: 8 \n",
      "total: 36 \n",
      "i: 9 \n",
      "total: 45 \n"
     ]
    }
   ],
   "source": [
    "i = 0\n",
    "total = 0\n",
    "while i < 10 and total < 50:\n",
    "    total += i\n",
    "    print(f\"i: {i} \\ntotal: {total} \")\n",
    "    i += 1"
   ]
  },
  {
   "cell_type": "code",
   "execution_count": 4,
   "metadata": {},
   "outputs": [
    {
     "name": "stdout",
     "output_type": "stream",
     "text": [
      "perulangan ke 1\n",
      "perulangan ke 2\n",
      "perulangan ke 3\n",
      "perulangan ke 4\n",
      "perulangan ke 5\n",
      "perulangan ke 6\n",
      "perulangan ke 7\n",
      "akhirnya no 7 ketemu\n"
     ]
    }
   ],
   "source": [
    "found = False\n",
    "i = 0\n",
    "while not found:\n",
    "    if i == 7:\n",
    "        found = True\n",
    "        print(\"akhirnya no 7 ketemu\")\n",
    "    else:\n",
    "        i += 1\n",
    "        print(f\"perulangan ke {i}\")"
   ]
  },
  {
   "cell_type": "code",
   "execution_count": 8,
   "metadata": {},
   "outputs": [
    {
     "name": "stdout",
     "output_type": "stream",
     "text": [
      "gagak\n",
      "['kakatua', 'garuda', 'gagak']\n"
     ]
    }
   ],
   "source": [
    "# list index nya dimulai dari 0 bisa di akses via index\n",
    "A = [\"kakatua\", \"merpati\", \"gagak\"]\n",
    "B = A[2]\n",
    "\n",
    "print(B)\n",
    "\n",
    "# bisa diubah via index\n",
    "A[1] = 'garuda'\n",
    "print(A)\n",
    "\n",
    "# bisa diinsert menggunakan append\n",
    "# bisa menghapus menggunakan pop\n"
   ]
  },
  {
   "cell_type": "code",
   "execution_count": null,
   "metadata": {},
   "outputs": [
    {
     "data": {
      "text/plain": [
       "['apple', 'blueberry', 'durian']"
      ]
     },
     "execution_count": 23,
     "metadata": {},
     "output_type": "execute_result"
    }
   ],
   "source": [
    "# membuat list\n",
    "buahbuahan = [\"apple\", \"banana\", \"cherry\"]\n",
    "    \n",
    "buahbuahan.insert(0, \"mangga\")\n",
    "# menambahkan elemen kedalam list \n",
    "buahbuahan.append(\"durian\")\n",
    "\n",
    "# mengakses elemen \n",
    "pilihan = buahbuahan[0], buahbuahan[3]\n",
    "\n",
    "# menghapus via index\n",
    "buahbuahan.pop(0)\n",
    "\n",
    "# mengubah elemen\n",
    "buahbuahan[1] = \"blueberry\"\n",
    "\n",
    "# menghapus elemen via kata kunci\n",
    "buahbuahan.remove(\"cherry\")\n",
    "\n",
    "buahbuahan"
   ]
  },
  {
   "cell_type": "code",
   "execution_count": 38,
   "metadata": {},
   "outputs": [
    {
     "name": "stdout",
     "output_type": "stream",
     "text": [
      "index ke 0 buahnya adalah apple\n",
      "index ke 1 buahnya adalah banana\n",
      "index ke 2 buahnya adalah cherry\n",
      "index ke 3 buahnya adalah mangga\n",
      "index ke 3 buahnya adalah mangga\n",
      "index ke 2 buahnya adalah cherry\n",
      "index ke 1 buahnya adalah banana\n",
      "index ke 0 buahnya adalah apple\n"
     ]
    }
   ],
   "source": [
    "# list\n",
    "BuahBuahan = [\"apple\", \"banana\", \"cherry\", \"mangga\"]\n",
    "\n",
    "# iterasi menggunakan for\n",
    "for i in range(0,4):\n",
    "    print(f\"index ke {i} buahnya adalah {BuahBuahan[i]}\")\n",
    "\n",
    "# bisa menentukan mau mengulang berapa kali\n",
    "# kalo mau mulai dari mangga harus pake step -1\n",
    "for i in range(3, -1, -1):\n",
    "    print(f\"index ke {i} buahnya adalah {BuahBuahan[i]}\")"
   ]
  },
  {
   "cell_type": "code",
   "execution_count": 21,
   "metadata": {},
   "outputs": [
    {
     "data": {
      "text/plain": [
       "('apple', 'banana', 'cherry')"
      ]
     },
     "execution_count": 21,
     "metadata": {},
     "output_type": "execute_result"
    }
   ],
   "source": [
    "# membuat tuple\n",
    "buahbuahan = (\"apple\", \"banana\", \"cherry\")\n",
    "\n",
    "# tidak bisa menambah elemen\n",
    "# tidak bisa menghapus elemen \n",
    "\n",
    "buahbuahan\n",
    "\n",
    "\n"
   ]
  },
  {
   "cell_type": "code",
   "execution_count": 39,
   "metadata": {},
   "outputs": [
    {
     "name": "stdout",
     "output_type": "stream",
     "text": [
      "perulangan ke 0\n",
      "perulangan ke 1\n",
      "perulangan ke 2\n",
      "diash ada dalam list\n"
     ]
    }
   ],
   "source": [
    "nama = [1,\"firdaus\", \"diash\"]\n",
    "nama_yang_dicari = \"diash\"\n",
    "ada = False\n",
    "\n",
    "for n in range(0,3):\n",
    "    print(f\"perulangan ke {n}\")\n",
    "    if nama[n] == nama_yang_dicari:\n",
    "        ada = True\n",
    "        break\n",
    "\n",
    "if ada:\n",
    "    print(nama_yang_dicari, \"ada dalam list\")\n",
    "else:\n",
    "    print(nama_yang_dicari, \"tidak ada dalam list\")"
   ]
  },
  {
   "cell_type": "code",
   "execution_count": 20,
   "metadata": {},
   "outputs": [
    {
     "data": {
      "text/plain": [
       "{'apple', 'cherry', 'nanas'}"
      ]
     },
     "execution_count": 20,
     "metadata": {},
     "output_type": "execute_result"
    }
   ],
   "source": [
    "# membuat set\n",
    "buahbuahan = {\"apple\", \"banana\", \"cherry\"}\n",
    "\n",
    "# menambah elemen via kata kunci\n",
    "buahbuahan.add(\"nanas\")\n",
    "\n",
    "# menghapus elemet via kata kunci\n",
    "buahbuahan.remove(\"banana\")\n",
    "\n",
    "buahbuahan"
   ]
  },
  {
   "cell_type": "code",
   "execution_count": 1,
   "metadata": {},
   "outputs": [
    {
     "name": "stdout",
     "output_type": "stream",
     "text": [
      "Perulangan ke: 0\n",
      "Perulangan ke: 1\n",
      "Perulangan ke: 2\n",
      "Perulangan ke: 3\n",
      "Perulangan ke: 4\n"
     ]
    },
    {
     "data": {
      "text/plain": [
       "625"
      ]
     },
     "execution_count": 1,
     "metadata": {},
     "output_type": "execute_result"
    }
   ],
   "source": [
    "def percabangan(a,b):\n",
    "    if a > b:\n",
    "        hitung=a**b\n",
    "    else:\n",
    "        print(\"Tidak terpenuhi\")\n",
    "    def perulangan(z):\n",
    "        i =0\n",
    "        while i < z:\n",
    "            print(f\"Perulangan ke: {i}\")\n",
    "            i += 1\n",
    "        return i\n",
    "    perulangan(5)\n",
    "    return hitung\n",
    "percabangan(5,4)"
   ]
  },
  {
   "cell_type": "code",
   "execution_count": 4,
   "metadata": {},
   "outputs": [
    {
     "data": {
      "text/plain": [
       "['Shafira Aprillia']"
      ]
     },
     "execution_count": 4,
     "metadata": {},
     "output_type": "execute_result"
    }
   ],
   "source": [
    "nama = input(\"Masukan nama pasien:\")\n",
    "nama_pasien=[]\n",
    "nama_pasien.append(nama)\n",
    "\n",
    "nama_pasien"
   ]
  },
  {
   "cell_type": "code",
   "execution_count": 7,
   "metadata": {},
   "outputs": [
    {
     "data": {
      "text/plain": [
       "['Shafira Aprillia', 'Ridayanti', 'Nakhwa']"
      ]
     },
     "execution_count": 7,
     "metadata": {},
     "output_type": "execute_result"
    }
   ],
   "source": [
    "nama_pasien=[]\n",
    "for i in range(3):\n",
    "    pasien = input(f\"Masukan pasien ke {i+1}: \")\n",
    "    nama_pasien.append(pasien)\n",
    "\n",
    "nama_pasien"
   ]
  },
  {
   "cell_type": "code",
   "execution_count": 9,
   "metadata": {},
   "outputs": [
    {
     "name": "stdout",
     "output_type": "stream",
     "text": [
      "\n",
      "Nama-nama pasien yang telah dimasukkan: \n",
      "1 Shafira Aprillia\n",
      "2 Fira\n"
     ]
    }
   ],
   "source": [
    "jumlah_pasien = int(input(\"Masukan jumlah pasien: \"))\n",
    "\n",
    "nama_pasien = []\n",
    "\n",
    "for i in range(jumlah_pasien):\n",
    "    nama = input(f\"Masukan nama pasien ke {i+1}:\")\n",
    "    nama_pasien.append(nama)\n",
    "\n",
    "print(\"\\nNama-nama pasien yang telah dimasukkan: \")\n",
    "i = 1\n",
    "for nama in nama_pasien:\n",
    "    print(i, nama)\n",
    "    i+=1\n"
   ]
  },
  {
   "cell_type": "code",
   "execution_count": null,
   "metadata": {},
   "outputs": [
    {
     "ename": "ValueError",
     "evalue": "could not convert string to float: '25,5'",
     "output_type": "error",
     "traceback": [
      "\u001b[1;31m---------------------------------------------------------------------------\u001b[0m",
      "\u001b[1;31mValueError\u001b[0m                                Traceback (most recent call last)",
      "Cell \u001b[1;32mIn[26], line 8\u001b[0m\n\u001b[0;32m      6\u001b[0m \u001b[38;5;28;01mfor\u001b[39;00m i \u001b[38;5;129;01min\u001b[39;00m \u001b[38;5;28mrange\u001b[39m(jumlah_pasien):\n\u001b[0;32m      7\u001b[0m     nama \u001b[38;5;241m=\u001b[39m \u001b[38;5;28minput\u001b[39m(\u001b[38;5;124mf\u001b[39m\u001b[38;5;124m\"\u001b[39m\u001b[38;5;124mMasukan nama pasien ke \u001b[39m\u001b[38;5;132;01m{\u001b[39;00mi\u001b[38;5;241m+\u001b[39m\u001b[38;5;241m1\u001b[39m\u001b[38;5;132;01m}\u001b[39;00m\u001b[38;5;124m:\u001b[39m\u001b[38;5;124m\"\u001b[39m)\n\u001b[1;32m----> 8\u001b[0m     berat_badan \u001b[38;5;241m=\u001b[39m \u001b[38;5;28;43mfloat\u001b[39;49m\u001b[43m(\u001b[49m\u001b[38;5;28;43minput\u001b[39;49m\u001b[43m(\u001b[49m\u001b[38;5;124;43mf\u001b[39;49m\u001b[38;5;124;43m\"\u001b[39;49m\u001b[38;5;124;43mMasukan berat badan \u001b[39;49m\u001b[38;5;132;43;01m{\u001b[39;49;00m\u001b[43mi\u001b[49m\u001b[38;5;241;43m+\u001b[39;49m\u001b[38;5;241;43m1\u001b[39;49m\u001b[38;5;132;43;01m}\u001b[39;49;00m\u001b[38;5;124;43m:\u001b[39;49m\u001b[38;5;124;43m\"\u001b[39;49m\u001b[43m)\u001b[49m\u001b[43m)\u001b[49m\n\u001b[0;32m      9\u001b[0m     nama\u001b[38;5;241m.\u001b[39mappend(nama)\n\u001b[0;32m     10\u001b[0m     berat_badan\u001b[38;5;241m.\u001b[39mappend(berat_badan)\n",
      "\u001b[1;31mValueError\u001b[0m: could not convert string to float: '25,5'"
     ]
    }
   ],
   "source": [
    "jumlah_pasien = int(input(\"Masukan Jumlah Pasien:\"))\n",
    "\n",
    "nama_pasien = []\n",
    "berat_badan = []\n",
    "\n",
    "for i in range(jumlah_pasien):\n",
    "    nama = input(f\"Masukan nama pasien ke {i+1}:\")\n",
    "    berat_badan = float(input(f\"Masukan berat badan {i+1}:\"))\n",
    "    berat.append(berat_badan)\n",
    "    nama_pasien.append(nama)\n",
    "\n",
    "\n",
    "rata_rata = sum(berat)/len(nama_pasien)\n",
    "\n",
    "print(f)\n",
    "\n",
    "\n",
    "print(f\"Rata-rata keseluruhan berat badan {berat_badan:.2f}\")\n",
    "\n",
    "print(f\"Daftar nama pasien yang memiliki berat badan di atas 70kg: {nama_pasien}\")\n",
    "\n",
    "for pasien in pasien_diatas:\n",
    "    print(pasien)\n",
    "\n",
    "\n"
   ]
  }
 ],
 "metadata": {
  "kernelspec": {
   "display_name": "Python 3",
   "language": "python",
   "name": "python3"
  },
  "language_info": {
   "codemirror_mode": {
    "name": "ipython",
    "version": 3
   },
   "file_extension": ".py",
   "mimetype": "text/x-python",
   "name": "python",
   "nbconvert_exporter": "python",
   "pygments_lexer": "ipython3",
   "version": "3.12.7"
  }
 },
 "nbformat": 4,
 "nbformat_minor": 2
}
