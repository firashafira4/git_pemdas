{
 "cells": [
  {
   "cell_type": "code",
   "execution_count": 3,
   "metadata": {},
   "outputs": [
    {
     "name": "stdout",
     "output_type": "stream",
     "text": [
      "hitung dong\n",
      "hasil function 20\n"
     ]
    }
   ],
   "source": [
    "# def adalah kata unci function\n",
    "def coba_percabangan(a,b):\n",
    "    if a > b:\n",
    "        print(\"hitung dong\")\n",
    "        hasil = a*b\n",
    "    else:\n",
    "        print(\"tidak bisa dihitung\")\n",
    "    return hasil\n",
    "\n",
    "def cobain(a,b):\n",
    "    while a < 10 and b > 5:\n",
    "        print(f\"angka {a}\")\n",
    "        a += 1\n",
    "    return a\n",
    "\n",
    "cobain_terus = coba_percabangan(10,2)\n",
    "print(f\"hasil function {cobain_terus}\")"
   ]
  },
  {
   "cell_type": "code",
   "execution_count": 8,
   "metadata": {},
   "outputs": [
    {
     "name": "stdout",
     "output_type": "stream",
     "text": [
      "Hello, Shafira Aprillia!\n",
      "Hello, stranger!\n"
     ]
    }
   ],
   "source": [
    "# kwargs bisa ngasih kata kunci\n",
    "# fungsinya mencari berdasarkan kata kunci\n",
    "def greet(**kwargs):\n",
    "    if \"name\" in kwargs:\n",
    "        print(f\"Hello, {kwargs[\"name\"]}!\")\n",
    "    else:\n",
    "        print(\"Hello, stranger!\")\n",
    "\n",
    "# memanggil fungsi degan argumen kata kunci\n",
    "greet(name=\"Shafira Aprillia\")\n",
    "\n",
    "# memanggil fungsi tanpa argumen kata kunci\n",
    "greet()"
   ]
  },
  {
   "cell_type": "code",
   "execution_count": null,
   "metadata": {},
   "outputs": [],
   "source": [
    "# args bisa menyimpan lebih dari 1 argumen\n"
   ]
  }
 ],
 "metadata": {
  "kernelspec": {
   "display_name": "Python 3",
   "language": "python",
   "name": "python3"
  },
  "language_info": {
   "codemirror_mode": {
    "name": "ipython",
    "version": 3
   },
   "file_extension": ".py",
   "mimetype": "text/x-python",
   "name": "python",
   "nbconvert_exporter": "python",
   "pygments_lexer": "ipython3",
   "version": "3.12.7"
  }
 },
 "nbformat": 4,
 "nbformat_minor": 2
}
