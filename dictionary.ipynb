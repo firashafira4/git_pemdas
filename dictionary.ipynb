{
 "cells": [
  {
   "cell_type": "code",
   "execution_count": 14,
   "metadata": {},
   "outputs": [
    {
     "name": "stdout",
     "output_type": "stream",
     "text": [
      "nama saya adalah fira\n",
      "usia saya adalah 18\n",
      "kota saya di bandung\n"
     ]
    },
    {
     "data": {
      "text/plain": [
       "19"
      ]
     },
     "execution_count": 14,
     "metadata": {},
     "output_type": "execute_result"
    }
   ],
   "source": [
    "my_dict = {}\n",
    "\n",
    "my_dict = {'nama': 'fira', 'usia': 18, 'kota': 'bandung'}\n",
    "\n",
    "nama_saya = my_dict['nama']\n",
    "print(f'nama saya adalah {nama_saya}')\n",
    "\n",
    "usia_saya = my_dict['usia']\n",
    "print(f'usia saya adalah {usia_saya}')\n",
    "\n",
    "kota_saya = my_dict['kota']\n",
    "print(f'kota saya di {kota_saya}')\n",
    "\n",
    "# menambah item baru dan value nya\n",
    "my_dict['pekerjaan']= 'programmer'\n",
    "my_dict\n",
    "\n",
    "# memodifikasi usia\n",
    "my_dict['usia']= 19\n",
    "my_dict\n",
    "\n",
    "# menghapus item dengan del \n",
    "del my_dict['kota']\n",
    "my_dict\n",
    "\n",
    "# menghapus menggunakan pop key nya akan terhapus tetapi valuenya masih ada\n",
    "usia = my_dict.pop('usia')\n",
    "usia\n",
    "\n"
   ]
  },
  {
   "cell_type": "code",
   "execution_count": 17,
   "metadata": {},
   "outputs": [
    {
     "data": {
      "text/plain": [
       "{'a': 1, 'b': 3, 'c': 4}"
      ]
     },
     "execution_count": 17,
     "metadata": {},
     "output_type": "execute_result"
    }
   ],
   "source": [
    "dict1 = {'a': 1, 'b' : 2}\n",
    "dict2 = {'b': 3, 'c' : 4}\n",
    "dict1.update(dict2)\n",
    "dict1"
   ]
  },
  {
   "cell_type": "code",
   "execution_count": 22,
   "metadata": {},
   "outputs": [
    {
     "name": "stdout",
     "output_type": "stream",
     "text": [
      "nama\n",
      "usia\n",
      "kota\n"
     ]
    }
   ],
   "source": [
    "# perulangan dictionary berdasarkan key\n",
    "my_dict = {'nama': 'fira', 'usia': 19, 'kota': 'bandung'}\n",
    "my_dict['usia'] = 18\n",
    "\n",
    "for i in my_dict:\n",
    "    print(i)"
   ]
  },
  {
   "cell_type": "code",
   "execution_count": null,
   "metadata": {},
   "outputs": [
    {
     "name": "stdout",
     "output_type": "stream",
     "text": [
      "fira\n",
      "18\n",
      "bandung\n"
     ]
    }
   ],
   "source": [
    "# perulangan berdasarkan value\n",
    "my_dict = {'nama': 'fira', 'usia': 19, 'kota': 'bandung'}\n",
    "my_dict['usia'] = 18\n",
    "\n",
    "for i in my_dict.values():\n",
    "    print(i)"
   ]
  },
  {
   "cell_type": "code",
   "execution_count": null,
   "metadata": {},
   "outputs": [
    {
     "name": "stdout",
     "output_type": "stream",
     "text": [
      "nama fira\n",
      "usia 18\n",
      "kota bandung\n"
     ]
    }
   ],
   "source": [
    "# perulangan berdasarkan key dan value\n",
    "for i,j in my_dict.items():\n",
    "    print(i,j)"
   ]
  },
  {
   "cell_type": "code",
   "execution_count": 32,
   "metadata": {},
   "outputs": [
    {
     "name": "stdout",
     "output_type": "stream",
     "text": [
      "nama orang 1 adalah fira usianya adalah 19\n",
      "nama orang 2 adalah shafira usianya adalah 18\n"
     ]
    }
   ],
   "source": [
    "dictionary_banyak = {\n",
    "    'orang1': {'nama':'fira', 'usia': 19},\n",
    "    'orang2': {'nama': 'shafira', 'usia': 18}\n",
    "}\n",
    "\n",
    "nama = (dictionary_banyak['orang1']['nama'])\n",
    "usia = (dictionary_banyak['orang1']['usia'])\n",
    "print(f'nama orang 1 adalah {nama} usianya adalah {usia}')\n",
    "\n",
    "nama = (dictionary_banyak['orang2']['nama'])\n",
    "usia = (dictionary_banyak['orang2']['usia'])\n",
    "print(f'nama orang 2 adalah {nama} usianya adalah {usia}')"
   ]
  },
  {
   "cell_type": "code",
   "execution_count": 33,
   "metadata": {},
   "outputs": [
    {
     "name": "stdout",
     "output_type": "stream",
     "text": [
      "orang1 {'nama': 'fira', 'usia': 19}\n",
      "orang2 {'nama': 'shafira', 'usia': 18}\n"
     ]
    }
   ],
   "source": [
    "for i,j in dictionary_banyak.items():\n",
    "    print(i,j)"
   ]
  },
  {
   "cell_type": "code",
   "execution_count": 46,
   "metadata": {},
   "outputs": [
    {
     "name": "stdout",
     "output_type": "stream",
     "text": [
      "iD orang orang1\n",
      "nama: fira\n",
      "usia: 19\n",
      "iD orang orang2\n",
      "nama: shafira\n",
      "usia: 18\n"
     ]
    }
   ],
   "source": [
    "for i,j in dictionary_banyak.items():\n",
    "    print(f'iD orang {i}')\n",
    "    print(f'nama: {j['nama']}')\n",
    "    print(f'usia: {j['usia']}')"
   ]
  },
  {
   "cell_type": "code",
   "execution_count": 47,
   "metadata": {},
   "outputs": [],
   "source": [
    "data_limbah = {\n",
    "    'lokasi1': {\n",
    "        'nama_lokasi': 'Area Kota 1',\n",
    "        'jumlah_limbah': {\n",
    "            'plastik': 500,\n",
    "            'organik': 300,\n",
    "            'logam': 200\n",
    "        }\n",
    "    },\n",
    "    'lokasi2': {\n",
    "        'nama_lokasi': 'Area Kota 2',\n",
    "        'jumlah_limbah': {\n",
    "            'plastik': 700,\n",
    "            'organik': 400,\n",
    "            'logam': 250\n",
    "        }\n",
    "    },\n",
    "    'lokasi3': {\n",
    "        'nama_lokasi': 'Area Kota 3',\n",
    "        'jumlah_limbah': {\n",
    "            'plastik': 600,\n",
    "            'organik': 350,\n",
    "            'logam': 300\n",
    "        }\n",
    "    }\n",
    "}"
   ]
  },
  {
   "cell_type": "code",
   "execution_count": null,
   "metadata": {},
   "outputs": [
    {
     "name": "stdout",
     "output_type": "stream",
     "text": [
      "Semua data lokasi:\n",
      "lokasi1: {'nama_lokasi': 'Area Kota 1', 'jumlah_limbah': {'plastik': 500, 'organik': 300, 'logam': 200}}\n",
      "lokasi2: {'nama_lokasi': 'Area Kota 2', 'jumlah_limbah': {'plastik': 700, 'organik': 400, 'logam': 250}}\n",
      "lokasi3: {'nama_lokasi': 'Area Kota 3', 'jumlah_limbah': {'plastik': 600, 'organik': 350, 'logam': 300}}\n",
      "\n",
      "Jumlah limbah plastik dari lokasi 2:\n",
      "700\n",
      "\n",
      "Nama lokasi 3:\n",
      "Area Kota 3\n",
      "\n",
      "Jumlah limbah organik dan logam setiap lokasi:\n",
      "Area Kota 1: Organik = 300, Logam = 200\n",
      "Area Kota 2: Organik = 400, Logam = 250\n",
      "Area Kota 3: Organik = 350, Logam = 300\n"
     ]
    }
   ],
   "source": [
    "print(\"Semua data lokasi:\")\n",
    "for lokasi, data in data_limbah.items():\n",
    "    print(f\"{lokasi}: {data}\")\n",
    "\n",
    "# 2. Print hanya jumlah limbah plastik dari lokasi 2\n",
    "print(\"\\nJumlah limbah plastik dari lokasi 2:\")\n",
    "print(data_limbah['lokasi2']['jumlah_limbah']['plastik'])\n",
    "\n",
    "# 3. Print nama lokasi 3\n",
    "print(\"\\nNama lokasi 3:\")\n",
    "print(data_limbah['lokasi3']['nama_lokasi'])\n",
    "\n",
    "# 4. Masukkan jumlah limbah organik dan logam setiap lokasi ke dalam variabel\n",
    "print(\"\\nJumlah limbah organik dan logam setiap lokasi:\")\n",
    "for lokasi, data in data_limbah.items():\n",
    "    organik = data['jumlah_limbah']['organik']\n",
    "    logam = data['jumlah_limbah']['logam']\n",
    "    print(f\"{data['nama_lokasi']}: Organik = {organik}, Logam = {logam}\")\n",
    "\n",
    "    "
   ]
  },
  {
   "cell_type": "code",
   "execution_count": 7,
   "metadata": {},
   "outputs": [
    {
     "name": "stdout",
     "output_type": "stream",
     "text": [
      "Jumlah sampah anorganik: 250 kg\n",
      "Lokasi pembuangan sampah B3: Tempat Pengelolaan B3\n",
      "\n",
      "Data sampah setelah pembaruan:\n",
      "Organik: {'jumlah': 130, 'lokasi': 'TPA Organik'}\n",
      "Anorganik: {'jumlah': 250, 'lokasi': 'Pusat Daur Ulang'}\n",
      "B3: {'jumlah': 60, 'lokasi': 'Tempat Pengelolaan B3'}\n",
      "Elektronik: {'jumlah': 40, 'lokasi': 'Pusat Pengelolaan Elektronik'}\n",
      "Pengelolaan intensif diperlukan untuk organik.\n",
      "Pengelolaan intensif diperlukan untuk anorganik.\n",
      "B3 dalam batas aman.\n",
      "Elektronik dalam batas aman.\n"
     ]
    }
   ],
   "source": [
    "# 1. Membuat dan Mengakses Dictionary\n",
    "data_sampah = {\n",
    "    \"organik\":\n",
    "    {\"jumlah\": 120, \n",
    "     \"lokasi\": \"TPA Organik\"\n",
    "    },\n",
    "    \"anorganik\":\n",
    "    {\"jumlah\": 250, \n",
    "    \"lokasi\": \"Pusat Daur Ulang\"\n",
    "    },\n",
    "    \"B3\":\n",
    "    {\"jumlah\": 60, \n",
    "    \"lokasi\": \"Tempat Pengelolaan B3\"\n",
    "    }\n",
    "}\n",
    "\n",
    "# untuk mencetak jumlah sampah anorganik dan lokasi pembuangan sampah B3\n",
    "print(f\"Jumlah sampah anorganik: {data_sampah['anorganik']['jumlah']} kg\")\n",
    "print(f\"Lokasi pembuangan sampah B3: {data_sampah['B3']['lokasi']}\")\n",
    "\n",
    "# 2. Menambah dan Memodifikasi Data Dalam Dictionary\n",
    "# untuk menambahkan data baru sampah elektronik\n",
    "data_sampah[\"elektronik\"] = {\"jumlah\": 40, \"lokasi\": \"Pusat Pengelolaan Elektronik\"}\n",
    "\n",
    "# untuk memperbarui jumlah sampah organik menjadi 130 kg\n",
    "data_sampah[\"organik\"][\"jumlah\"] = 130\n",
    "\n",
    "# untuk mencetak seluruh dictionary setelah pembaruan\n",
    "print(\"\\nData sampah setelah pembaruan:\")\n",
    "for i, j in data_sampah.items():\n",
    "    print(f\"{i.capitalize()}: {j}\")\n",
    "\n",
    "# 3. Menambah If-Else\n",
    "# mengevaluasi setiap jenis sampah berdasarkan jumlahnya\n",
    "for i, j in data_sampah.items():\n",
    "    if j[\"jumlah\"] > 100:\n",
    "        print(f\"Pengelolaan intensif diperlukan untuk {i}.\")\n",
    "    else:\n",
    "        print(f\"{i.capitalize()} dalam batas aman.\")"
   ]
  }
 ],
 "metadata": {
  "kernelspec": {
   "display_name": "Python 3",
   "language": "python",
   "name": "python3"
  },
  "language_info": {
   "codemirror_mode": {
    "name": "ipython",
    "version": 3
   },
   "file_extension": ".py",
   "mimetype": "text/x-python",
   "name": "python",
   "nbconvert_exporter": "python",
   "pygments_lexer": "ipython3",
   "version": "3.12.7"
  }
 },
 "nbformat": 4,
 "nbformat_minor": 2
}
