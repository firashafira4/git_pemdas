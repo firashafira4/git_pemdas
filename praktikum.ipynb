{
 "cells": [
  {
   "cell_type": "code",
   "execution_count": 1,
   "metadata": {},
   "outputs": [
    {
     "name": "stdout",
     "output_type": "stream",
     "text": [
      "Masukan nama siswa: Banu\n",
      "Nama: Banu, Nilai: C \n"
     ]
    }
   ],
   "source": [
    "daftar_nilai=[\n",
    "    (\"Agus\",\"B\",89),\n",
    "    (\"Santi\",\"B\",98),\n",
    "    (\"Jono\",\"B\",78),\n",
    "    (\"Jiko\",\"B\",56),\n",
    "    (\"Ray\",\"B\",36),\n",
    "    (\"Bimi\",\"B\",63),\n",
    "    (\"Imin\",\"B\",73),\n",
    "    (\"Coki\",\"B\",98),\n",
    "    (\"Banu\",\"B\",14),\n",
    "]\n",
    "\n",
    "def konversi_nilai(nilai):\n",
    "    if nilai < 60:\n",
    "        return \"C\"\n",
    "    elif nilai < 80:\n",
    "        return \"B\"\n",
    "    else:\n",
    "        return \"A\"\n",
    "    \n",
    "nama_siswa = input(\"Masukan nama siswa\")\n",
    "data_siswa = [item for item in daftar_nilai if item[0] == nama_siswa]\n",
    "\n",
    "if data_siswa:\n",
    "    nama, kelas, nilai = data_siswa[0]\n",
    "    nilai_abjad = konversi_nilai(nilai)\n",
    "    print(f\"Masukan nama siswa: {nama_siswa}\")\n",
    "    print(f\"Nama: {nama_siswa}, Nilai: {nilai_abjad} \")\n",
    "else:\n",
    "    print(f\"Nama siswa tidak ditemukan coba input lagi dengan benar!\")\n",
    "\n"
   ]
  },
  {
   "cell_type": "code",
   "execution_count": 2,
   "metadata": {},
   "outputs": [
    {
     "name": "stdout",
     "output_type": "stream",
     "text": [
      "hitungin dong\n",
      "hasil function 5\n"
     ]
    }
   ],
   "source": [
    "def coba_percabangan(a=5, b=1):\n",
    "    if a > b:\n",
    "        print(\"hitungin dong\")\n",
    "        hasil = a*b\n",
    "    else:\n",
    "        print(\"tidak bisa dihitung\")\n",
    "    return hasil\n",
    "\n",
    "def cobain (a,b):\n",
    "    while a < 10 and b > 5:\n",
    "        print(f\"angka{a}\")\n",
    "        a += 1\n",
    "    return a\n",
    "\n",
    "cobain_terus = coba_percabangan()\n",
    "print(f\"hasil function {cobain_terus}\")"
   ]
  },
  {
   "cell_type": "code",
   "execution_count": 5,
   "metadata": {},
   "outputs": [
    {
     "name": "stdout",
     "output_type": "stream",
     "text": [
      "fungsi untuk menjumlahkan dua angka\n",
      "hasil penjumlahan: 8\n"
     ]
    }
   ],
   "source": [
    "def masukan_angka(a,b):\n",
    "    print(\"fungsi untuk menjumlahkan dua angka\")\n",
    "    hasil = a + b\n",
    "    return hasil\n",
    "\n",
    "hasil_penjumlahan = masukan_angka(3,5)\n",
    "print(f\"hasil penjumlahan: {hasil_penjumlahan}\")"
   ]
  },
  {
   "cell_type": "code",
   "execution_count": 6,
   "metadata": {},
   "outputs": [
    {
     "name": "stdout",
     "output_type": "stream",
     "text": [
      "0\n",
      "1\n",
      "2\n",
      "3\n",
      "4\n",
      "A\n",
      "selesai\n"
     ]
    }
   ],
   "source": [
    "i = 0\n",
    "while i < 10:\n",
    "    print(i)\n",
    "    i += 1\n",
    "    if i == 5:\n",
    "        print(\"A\")\n",
    "        break\n",
    "print(\"selesai\")"
   ]
  },
  {
   "cell_type": "code",
   "execution_count": 6,
   "metadata": {},
   "outputs": [
    {
     "name": "stdout",
     "output_type": "stream",
     "text": [
      "fond\n"
     ]
    }
   ],
   "source": [
    "thisdict= {\n",
    "    \"brand\":\"fond\",\n",
    "    \"model\":\"mustang\",\n",
    "    \"year\":1964\n",
    "}\n",
    "print(thisdict[\"brand\"])"
   ]
  },
  {
   "cell_type": "code",
   "execution_count": 7,
   "metadata": {},
   "outputs": [
    {
     "name": "stdout",
     "output_type": "stream",
     "text": [
      "{'brand': 'fond', 'model': 'mustang', 'year': 1964, 'color': 'red'}\n"
     ]
    }
   ],
   "source": [
    "# menambah data baru\n",
    "thisdict= {\n",
    "    \"brand\":\"fond\",\n",
    "    \"model\":\"mustang\",\n",
    "    \"year\":1964\n",
    "}\n",
    "thisdict[\"color\"]=\"red\"\n",
    "print(thisdict)"
   ]
  },
  {
   "cell_type": "code",
   "execution_count": 8,
   "metadata": {},
   "outputs": [
    {
     "name": "stdout",
     "output_type": "stream",
     "text": [
      "{'brand': 'fond', 'year': 1964}\n"
     ]
    }
   ],
   "source": [
    "# menghapus data\n",
    "thisdict= {\n",
    "    \"brand\":\"fond\",\n",
    "    \"model\":\"mustang\",\n",
    "    \"year\":1964\n",
    "}\n",
    "thisdict.pop(\"model\")\n",
    "print(thisdict)"
   ]
  },
  {
   "cell_type": "code",
   "execution_count": 9,
   "metadata": {},
   "outputs": [
    {
     "name": "stdout",
     "output_type": "stream",
     "text": [
      "brand\n",
      "year\n"
     ]
    }
   ],
   "source": [
    "for x in thisdict:\n",
    "    print(x)"
   ]
  },
  {
   "cell_type": "code",
   "execution_count": null,
   "metadata": {},
   "outputs": [],
   "source": [
    "for x,y in thisdict.item():\n",
    "    print(x)\n",
    "    \n"
   ]
  },
  {
   "cell_type": "code",
   "execution_count": 1,
   "metadata": {},
   "outputs": [
    {
     "name": "stdout",
     "output_type": "stream",
     "text": [
      "10 Pensil ditambahkan.\n",
      "Inventaris Toko:\n",
      "Pensil: 10\n",
      "\n",
      "5 Buku ditambahkan.\n",
      "Inventaris Toko:\n",
      "Pensil: 10\n",
      "Buku: 5\n",
      "\n",
      "Jumlah Pensil di inventaris tidak cukup untuk dihapus.\n",
      "Inventaris Toko:\n",
      "Pensil: 10\n",
      "Buku: 5\n",
      "\n",
      "5 Buku dihapus.\n",
      "Buku telah dihapus dari inventaris.\n",
      "Inventaris Toko:\n",
      "Pensil: 10\n",
      "\n"
     ]
    }
   ],
   "source": [
    "# inisialisasi dictionary untuk inventaris toko\n",
    "inventaris = {}\n",
    "\n",
    "# Fungsi untuk menambahkan item ke inventaris\n",
    "def tambah_item(nama, jumlah):\n",
    "    if nama in inventaris:\n",
    "        inventaris[nama] += jumlah\n",
    "    else:\n",
    "        inventaris[nama] = jumlah\n",
    "    print(f\"{jumlah} {nama} ditambahkan.\")\n",
    "    tampilkan_inventaris()\n",
    "\n",
    "# Fungsi untuk menghapus item dari inventaris\n",
    "def hapus_item(nama, jumlah):\n",
    "    if nama in inventaris:\n",
    "        if inventaris[nama] >= jumlah:\n",
    "            inventaris[nama] -= jumlah\n",
    "            print(f\"{jumlah} {nama} dihapus.\")\n",
    "            if inventaris[nama] == 0:\n",
    "                del inventaris[nama]\n",
    "                print(f\"{nama} telah dihapus dari inventaris.\")\n",
    "        else:\n",
    "            print(f\"Jumlah {nama} di inventaris tidak cukup untuk dihapus.\")\n",
    "    else:\n",
    "        print(f\"{nama} tidak ditemukan di inventaris.\")\n",
    "    tampilkan_inventaris()\n",
    "\n",
    "# Fungsi untuk menampilkan inventaris toko\n",
    "def tampilkan_inventaris():\n",
    "    print(\"Inventaris Toko:\")\n",
    "    for item, jumlah in inventaris.items():\n",
    "        print(f\"{item}: {jumlah}\")\n",
    "    print()\n",
    "\n",
    "# Contoh penggunaan\n",
    "tambah_item(\"Pensil\", 10)\n",
    "tambah_item(\"Buku\", 5)\n",
    "hapus_item(\"Pensil\", 11)\n",
    "hapus_item(\"Buku\", 5)"
   ]
  },
  {
   "cell_type": "code",
   "execution_count": 2,
   "metadata": {},
   "outputs": [
    {
     "name": "stdout",
     "output_type": "stream",
     "text": [
      "\n",
      "Data untuk pasien 1\n",
      "\n",
      "Data untuk pasien 2\n",
      "\n",
      "Rata-rata tekanan darah:\n",
      "Sistolik: 56.00\n",
      "Diastolik: 77.00\n",
      "\n",
      "Pasien dengan tekanan darah tinggi (hipertensi):\n"
     ]
    }
   ],
   "source": [
    "# Program untuk mencatat data pasien dan menganalisis tekanan darah\n",
    "\n",
    "# Minta pengguna memasukkan jumlah pasien\n",
    "jumlah_pasien = int(input(\"Masukkan jumlah pasien yang akan didaftarkan: \"))\n",
    "\n",
    "# Inisialisasi list untuk menyimpan data pasien\n",
    "nama_pasien = []\n",
    "tekanan_sistolik = []\n",
    "tekanan_diastolik = []\n",
    "\n",
    "# Minta pengguna memasukkan data setiap pasien\n",
    "for i in range(jumlah_pasien):\n",
    "    print(f\"\\nData untuk pasien {i + 1}\")\n",
    "    nama = input(\"Masukkan nama pasien: \")\n",
    "    sistolik = int(input(\"Masukkan tekanan darah sistolik: \"))\n",
    "    diastolik = int(input(\"Masukkan tekanan darah diastolik: \"))\n",
    "    \n",
    "    # Simpan data ke dalam list masing-masing\n",
    "    nama_pasien.append(nama)\n",
    "    tekanan_sistolik.append(sistolik)\n",
    "    tekanan_diastolik.append(diastolik)\n",
    "\n",
    "# Hitung rata-rata tekanan darah sistolik dan diastolik\n",
    "rata_sistolik = sum(tekanan_sistolik) / jumlah_pasien\n",
    "rata_diastolik = sum(tekanan_diastolik) / jumlah_pasien\n",
    "\n",
    "print(\"\\nRata-rata tekanan darah:\")\n",
    "print(f\"Sistolik: {rata_sistolik:.2f}\")\n",
    "print(f\"Diastolik: {rata_diastolik:.2f}\")\n",
    "\n",
    "# Tampilkan nama-nama pasien dengan hipertensi\n",
    "print(\"\\nPasien dengan tekanan darah tinggi (hipertensi):\")\n",
    "for i in range(jumlah_pasien):\n",
    "    if tekanan_sistolik[i] > 140 or tekanan_diastolik[i] > 90:\n",
    "        print(f\"- {nama_pasien[i]} (Sistolik: {tekanan_sistolik[i]}, Diastolik: {tekanan_diastolik[i]})\")"
   ]
  },
  {
   "cell_type": "code",
   "execution_count": 25,
   "metadata": {},
   "outputs": [],
   "source": [
    "def input_data(jumlah_pasien):\n",
    "    nama = []\n",
    "    KKT = []\n",
    "    KLDL = []\n",
    "    for i in range(jumlah_pasien):\n",
    "        namanya = input(f\"Masukan nama pasien ke {i + 1}:\")\n",
    "        kolesterol = int(input(f\"Masukan data kolesterol pasien ke {i + 1}:\"))\n",
    "        kolesterol_LDL = int(input(f\"Masukan kolesterol LDL pasien ke {i + 1}:\"))\n",
    "        nama.append(namanya)\n",
    "        KKT.append(kolesterol)\n",
    "        KLDL.append(kolesterol_LDL)\n",
    "    return nama, KKT, KLDL\n",
    "\n",
    "def hitung_rata_rata(kolesterol):\n",
    "    rata_rata = sum(kolesterol) / len(kolesterol)\n",
    "    return rata_rata\n",
    "\n",
    "def cek_risiko(nama, KKT, KLDL):\n",
    "    for i in range(len(nama)):\n",
    "        if KKT[i] > 200 or KLDL[i] > 130:\n",
    "            print(f\"Nama: {nama[i]}, KKT: {KKT[i]} berisiko terkena penyakit jantung\")\n",
    "        else:\n",
    "            print(f\"Nama : {nama[i]}, KKT: {KKT[i]} tidak berisiko terkena penyakit jantung\")\n",
    "\n",
    "def main():\n",
    "    jumlah_pasien = int(input(\"Masukan jumlah pasien: \"))\n",
    "    nama, KKT, KLDL = input_data(jumlah_pasien)\n",
    "    rata_rata = hitung_rata_rata(KKT)\n",
    "    print(f\"Rata-rata kolesterol total:\")\n"
   ]
  },
  {
   "cell_type": "code",
   "execution_count": 3,
   "metadata": {},
   "outputs": [
    {
     "name": "stdout",
     "output_type": "stream",
     "text": [
      "namanya adalah diash\n",
      "namanya adalah firdaus\n"
     ]
    }
   ],
   "source": [
    "nama = [\"diash\", \"firdaus\"]\n",
    "for z in range (0,2):\n",
    "    print(f\"namanya adalah {nama[z]}\")"
   ]
  },
  {
   "cell_type": "code",
   "execution_count": 5,
   "metadata": {},
   "outputs": [
    {
     "name": "stdout",
     "output_type": "stream",
     "text": [
      "namanya adalah fira\n"
     ]
    }
   ],
   "source": [
    "nama_pasien = []\n",
    "\n",
    "for i in range (3):\n",
    "    nama = input(\"Masukan nama anda\")\n",
    "    nama_pasien.append(nama)\n",
    "\n",
    "for nama_saya in range (1):\n",
    "    print(f\"namanya adalah {nama_pasien[nama_saya]}\")"
   ]
  },
  {
   "cell_type": "code",
   "execution_count": 27,
   "metadata": {},
   "outputs": [
    {
     "name": "stdout",
     "output_type": "stream",
     "text": [
      "rata rata adalah 45.65\n",
      "\n",
      "Nama-nama pasien yang dan kondisinya:\n",
      "pasien: fira dibawah ambang batas\n",
      "pasien: shafira dibawah ambang batas\n"
     ]
    }
   ],
   "source": [
    "jumlah_pasien = int(input(\"Masukan jumlah pasien: \"))\n",
    "\n",
    "nama_pasien = []\n",
    "berat_badan = []\n",
    "\n",
    "for i in range(jumlah_pasien):\n",
    "    nama = input(f\"Masukan nama pasien ke {i+1}:\")\n",
    "    berat = float(input(f\"Masukan berat badan ke {i+1}:\"))\n",
    "    berat_badan.append(berat)\n",
    "    nama_pasien.append(nama)\n",
    "\n",
    "rata_rata = sum(berat_badan) / len(nama_pasien)\n",
    "\n",
    "print(f\"rata rata adalah {rata_rata}\")\n",
    "print(\"\\nNama-nama pasien yang dan kondisinya:\")\n",
    "\n",
    "for i in range (jumlah_pasien):\n",
    "    if berat_badan[i]>70:\n",
    "        print(f\"pasien: {nama_pasien[i]} diatas ambang batas\")\n",
    "        nama_pasien.append(nama_pasien[i])\n",
    "    else:\n",
    "        print(f\"pasien: {nama_pasien[i]} dibawah ambang batas\")\n",
    "        nama_pasien.append(nama_pasien[i])"
   ]
  },
  {
   "cell_type": "code",
   "execution_count": null,
   "metadata": {},
   "outputs": [
    {
     "name": "stdout",
     "output_type": "stream",
     "text": [
      "\n",
      "Pasien 1\n",
      "\n",
      "Pasien 2\n",
      "\n",
      "Rata-Rata Kadar Kolesterol Total: 150.00\n",
      "\n",
      "Pasien Dengan Risiko Penyakit Jantung:\n",
      "Tidak Ada Pasien Yang Berisiko Penyakit Jantung.\n",
      "\n",
      "Pasien yang tidak berisiko penyakit jantung:\n",
      "- Fira\n",
      "- Nakhwa\n"
     ]
    }
   ],
   "source": [
    "# meminta pengguna untuk memasukan jumlah pasien yang akan di daftarkan\n",
    "jumlah_pasien = int(input(\"Masukkan Jumlah Pasien Yang Akan Didaftarkan: \"))\n",
    "\n",
    "# menyimpan data setiap pasien pada list terpisah\n",
    "nama_list = []\n",
    "kadar_kolesterol_total = []\n",
    "kadar_kolesterol_ldl = []\n",
    "\n",
    "# mengumpulkan data pasien\n",
    "for i in range(jumlah_pasien):\n",
    "    print(f\"\\nPasien {i + 1}\")\n",
    "    nama = input(\"Masukkan Nama Pasien: \")\n",
    "    kolesterol_total = int(input(\"Masukkan Kadar Kolesterol Total: \"))\n",
    "    kolesterol_ldl = int(input(\"Masukkan Kadar Kolesterol LDL: \"))\n",
    "    \n",
    "    # menyimpan data ke dalam list\n",
    "    nama_list.append(nama)\n",
    "    kadar_kolesterol_total.append(kolesterol_total)\n",
    "    kadar_kolesterol_ldl.append(kolesterol_ldl)\n",
    "\n",
    "# menghitung rata-rata kadar kolesterol total dari semua pasien\n",
    "rata_kolesterol_total = sum(kadar_kolesterol_total) / jumlah_pasien\n",
    "print(f\"\\nRata-Rata Kadar Kolesterol Total: {rata_kolesterol_total:.2f}\")\n",
    "\n",
    "# menampilkan pasien yang memiliki risiko penyakit jantung\n",
    "print(\"\\nPasien Dengan Risiko Penyakit Jantung:\")\n",
    "risiko_jantung = False\n",
    "for i in range(jumlah_pasien):\n",
    "    if kadar_kolesterol_total[i] > 200 or kadar_kolesterol_ldl[i] > 130:\n",
    "        print(f\"-{nama_list[i]}\")\n",
    "        risiko_jantung = True\n",
    "\n",
    "if not risiko_jantung:\n",
    "    print(\"Tidak Ada Pasien Yang Berisiko Penyakit Jantung.\")\n",
    "\n",
    "# menampilkan pasien yang tidak berisiko penyakit jantung\n",
    "print(\"\\nPasien yang tidak berisiko penyakit jantung:\")\n",
    "tidak_risiko_jantung = False\n",
    "for i in range(jumlah_pasien):\n",
    "    if kadar_kolesterol_total[i] <= 200 and kadar_kolesterol_ldl[i] <= 130:\n",
    "        print(f\"- {nama_list[i]}\")\n",
    "        tidak_risiko_jantung = True\n",
    "\n",
    "if not tidak_risiko_jantung:\n",
    "    print(\"Tidak ada pasien yang tidak berisiko penyakit jantung.\")"
   ]
  },
  {
   "cell_type": "code",
   "execution_count": null,
   "metadata": {},
   "outputs": [],
   "source": [
    "jumlah_pasien = int(input(\"Masukan Jumlah Pasien\"))\n",
    "\n",
    "nama = []\n",
    "KKT = []\n",
    "KLDL = []\n",
    "\n",
    "for i in range (jumlah_pasien)\n",
    "namanya = input(f\"masukan nama pasien ke {i + 1} :\")\n",
    "kolesterol = int(input(f\"masukan data kolesterol pasien ke {i + 1}\"))"
   ]
  },
  {
   "cell_type": "code",
   "execution_count": 13,
   "metadata": {},
   "outputs": [
    {
     "name": "stdout",
     "output_type": "stream",
     "text": [
      "brand\n",
      "year\n"
     ]
    }
   ],
   "source": [
    "for x in thisdict.keys():\n",
    "    print(x)"
   ]
  }
 ],
 "metadata": {
  "kernelspec": {
   "display_name": "Python 3",
   "language": "python",
   "name": "python3"
  },
  "language_info": {
   "codemirror_mode": {
    "name": "ipython",
    "version": 3
   },
   "file_extension": ".py",
   "mimetype": "text/x-python",
   "name": "python",
   "nbconvert_exporter": "python",
   "pygments_lexer": "ipython3",
   "version": "3.12.7"
  }
 },
 "nbformat": 4,
 "nbformat_minor": 2
}
