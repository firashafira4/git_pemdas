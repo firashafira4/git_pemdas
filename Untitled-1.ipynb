{
 "cells": [
  {
   "cell_type": "code",
   "execution_count": 1,
   "metadata": {},
   "outputs": [
    {
     "name": "stdout",
     "output_type": "stream",
     "text": [
      "Nilai C\n"
     ]
    }
   ],
   "source": [
    "nilai = 75\n",
    "\n",
    "if nilai >= 90:\n",
    "    print(\"Nilai A\")\n",
    "elif nilai >= 80:\n",
    "    print(\"Nilai B\")\n",
    "elif nilai >= 70:\n",
    "    print(\"Nilai C\")\n",
    "elif nilai >= 60:\n",
    "    print(\"Nilai D\")\n",
    "else:\n",
    "    print(\"Nilai F\")"
   ]
  },
  {
   "cell_type": "code",
   "execution_count": 1,
   "metadata": {},
   "outputs": [
    {
     "name": "stdout",
     "output_type": "stream",
     "text": [
      "Pembagian eror\n"
     ]
    }
   ],
   "source": [
    "x = 5\n",
    "y = 0\n",
    "\n",
    "try:\n",
    "    z = x/y\n",
    "except:\n",
    "    print(\"Pembagian eror\")"
   ]
  },
  {
   "cell_type": "code",
   "execution_count": 2,
   "metadata": {},
   "outputs": [
    {
     "name": "stdout",
     "output_type": "stream",
     "text": [
      "0\n",
      "1\n",
      "2\n",
      "3\n",
      "4\n"
     ]
    }
   ],
   "source": [
    "for i in range(5):\n",
    "    print(i)"
   ]
  },
  {
   "cell_type": "code",
   "execution_count": 3,
   "metadata": {},
   "outputs": [
    {
     "name": "stdout",
     "output_type": "stream",
     "text": [
      "1\n",
      "2\n",
      "3\n",
      "4\n",
      "5\n"
     ]
    }
   ],
   "source": [
    "angka = [1,2,3,4,5]\n",
    "\n",
    "for a in angka:\n",
    "    print(a)"
   ]
  },
  {
   "cell_type": "code",
   "execution_count": 6,
   "metadata": {},
   "outputs": [
    {
     "name": "stdout",
     "output_type": "stream",
     "text": [
      "diash ada dalam tuple\n"
     ]
    }
   ],
   "source": [
    "nama = ('diash', 'firdaus', 'itenas')\n",
    "nama_yg_dicari = 'diash'\n",
    "ada = False\n",
    "\n",
    "for n in nama:\n",
    "    if n == nama_yg_dicari:\n",
    "        ada = True\n",
    "        break\n",
    "\n",
    "if ada:\n",
    "    print(nama_yg_dicari, 'ada dalam tuple')\n",
    "else:\n",
    "    print(nama_yg_dicari, 'tidak ada dalam tuple')"
   ]
  }
 ],
 "metadata": {
  "kernelspec": {
   "display_name": "Python 3",
   "language": "python",
   "name": "python3"
  },
  "language_info": {
   "codemirror_mode": {
    "name": "ipython",
    "version": 3
   },
   "file_extension": ".py",
   "mimetype": "text/x-python",
   "name": "python",
   "nbconvert_exporter": "python",
   "pygments_lexer": "ipython3",
   "version": "3.12.7"
  }
 },
 "nbformat": 4,
 "nbformat_minor": 2
}
