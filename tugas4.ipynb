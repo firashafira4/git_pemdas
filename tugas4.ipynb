{
 "cells": [
  {
   "cell_type": "code",
   "execution_count": 2,
   "metadata": {},
   "outputs": [
    {
     "name": "stdout",
     "output_type": "stream",
     "text": [
      "Nama: Shafira Aprillia\n",
      "Nama: Shafira Aprillia\n",
      "Nama: Shafira Aprillia\n",
      "Tekanan darah sistolik: 120 mmHg\n",
      "Tekanan darah diastolik: 150 mmHg\n",
      "Denyut nadi: 50 bpm\n",
      "Rekomendasi: Segera mencari bantuan medis (krisis hipertensi).\n",
      "Rekomendasi: Periksa apakah ada gejala lain yang mengiringi bradikardia.\n"
     ]
    }
   ],
   "source": [
    "nama = input(\"Masukan nama anda!\")\n",
    "# mengulangi nama sebanyak 3 kali menggunakan while\n",
    "count = 0\n",
    "while count < 3:\n",
    "    print(f\"Nama: {nama}\")\n",
    "    count += 1\n",
    "\n",
    "\n",
    "tekanan_darah_sistolik = int(input(\"Masukan tekanan darah sistolik\"))\n",
    "tekanan_darah_diastolik = int(input(\"Masukan tekanan darah diastolik\"))\n",
    "denyut_nadi = int(input(\"Masukan denyut nadi\"))\n",
    "\n",
    "# menampilkan hasil\n",
    "print(f\"Tekanan darah sistolik: {tekanan_darah_sistolik} mmHg\")\n",
    "print(f\"Tekanan darah diastolik: {tekanan_darah_diastolik} mmHg\")\n",
    "print(f\"Denyut nadi: {denyut_nadi} bpm\")\n",
    "\n",
    "# kondisi & rekomendasi berdasarkan tekanan darah\n",
    "if tekanan_darah_sistolik > 180 or tekanan_darah_diastolik > 120:\n",
    "    print(\"Rekomendasi: Segera mencari bantuan medis (krisis hipertensi).\")\n",
    "elif tekanan_darah_sistolik > 140 or tekanan_darah_diastolik > 90:\n",
    "    print(\"Rekomendasi: Konsultasi dengan dokter mengenai hipertensi.\")\n",
    "elif 120 <= tekanan_darah_sistolik <= 139 or 80 <= tekanan_darah_diastolik <= 89:\n",
    "    print(\"Rekomendasi: Anda dalam kategori prehipertensi.\")\n",
    "elif tekanan_darah_sistolik < 120 and tekanan_darah_diastolik < 80:\n",
    "    print(\"Rekomendasi: Tekanan darah anda normal.\")\n",
    "\n",
    "# cek denyut nadi\n",
    "if denyut_nadi > 100:\n",
    "    print(\"Rekomendasi: Periksa kondisi kesehatan jantung.\")\n",
    "elif denyut_nadi < 60:\n",
    "    print(\"Rekomendasi: Periksa apakah ada gejala lain yang mengiringi bradikardia.\")\n",
    "else:\n",
    "    print(\"Denyut nadi anda normal\")\n",
    "\n"
   ]
  },
  {
   "cell_type": "code",
   "execution_count": 2,
   "metadata": {},
   "outputs": [
    {
     "name": "stdout",
     "output_type": "stream",
     "text": [
      "Nama: Shafira Aprillia\n",
      "Nama: Shafira Aprillia\n",
      "Nama: Shafira Aprillia\n",
      "Tekanan darah sistolik: 120 mmHg\n",
      "Tekanan darah diastolik: 150 mmHg\n",
      "Denyut nadi: 50 bpm\n",
      "Kode: 2\n",
      "Rekomendasi: Segera mencari bantuan medis (krisis hipertensi).\n",
      "Rekomendasi: Periksa apakah ada gejala lain yang mengiringi bradikardia.\n"
     ]
    }
   ],
   "source": [
    "nama = input(\"Masukan nama anda!\")\n",
    "# mengulangi nama sebanyak 3 kali menggunakan while\n",
    "count = 0\n",
    "while count < 3:\n",
    "    print(f\"Nama: {nama}\")\n",
    "    count += 1\n",
    "\n",
    "\n",
    "tekanan_darah_sistolik = int(input(\"Masukan tekanan darah sistolik\"))\n",
    "tekanan_darah_diastolik = int(input(\"Masukan tekanan darah diastolik\"))\n",
    "denyut_nadi = int(input(\"Masukan denyut nadi\"))\n",
    "kode = int(input(\"Masukan kode\"))\n",
    "\n",
    "# menampilkan hasil\n",
    "print(f\"Tekanan darah sistolik: {tekanan_darah_sistolik} mmHg\")\n",
    "print(f\"Tekanan darah diastolik: {tekanan_darah_diastolik} mmHg\")\n",
    "print(f\"Denyut nadi: {denyut_nadi} bpm\")\n",
    "print(f\"Kode: {kode}\")\n",
    "\n",
    "# kondisi & rekomendasi berdasarkan tekanan darah\n",
    "match kode:\n",
    "    case 1:\n",
    "        print(\"Masih kosong\")\n",
    "    case 2:\n",
    "        if tekanan_darah_sistolik > 180 or tekanan_darah_diastolik > 120:\n",
    "            print(\"Rekomendasi: Segera mencari bantuan medis (krisis hipertensi).\")\n",
    "        elif tekanan_darah_sistolik > 140 or tekanan_darah_diastolik > 90:\n",
    "            print(\"Rekomendasi: Konsultasi dengan dokter mengenai hipertensi.\")\n",
    "        elif 120 <= tekanan_darah_sistolik <= 139 or 80 <= tekanan_darah_diastolik <= 89:\n",
    "            print(\"Rekomendasi: Anda dalam kategori prehipertensi.\")\n",
    "        elif tekanan_darah_sistolik < 120 and tekanan_darah_diastolik < 80:\n",
    "            print(\"Rekomendasi: Tekanan darah anda normal.\")\n",
    "\n",
    "# cek denyut nadi\n",
    "        if denyut_nadi > 100:\n",
    "            print(\"Rekomendasi: Periksa kondisi kesehatan jantung.\")\n",
    "        elif denyut_nadi < 60:\n",
    "            print(\"Rekomendasi: Periksa apakah ada gejala lain yang mengiringi bradikardia.\")\n",
    "        else:\n",
    "            print(\"Denyut nadi anda normal.\")\n",
    "    case 3:\n",
    "        print(\"Masih kosong\")\n",
    "    case _:\n",
    "        print(\"Masukan kode yang valid!\")\n",
    "\n"
   ]
  },
  {
   "cell_type": "code",
   "execution_count": null,
   "metadata": {},
   "outputs": [],
   "source": [
    "#. Jika tekanan darah sistolik lebih dari 180 atau diastolik lebih dari 120, rekomendasikan  pasien untuk segera mencari bantuan medis karena ini merupakan krisis hipertensi. \n",
    "#. Jika tidak dalam krisis hipertensi, cek tekanan darah: \n",
    "#. Jika sistolik lebih dari 140 atau diastolik lebih dari 90, sarankan untuk konsultasi  dengan dokter mengenai hipertensi. \n",
    "#. Jika sistolik antara 120 dan 139 atau diastolik antara 80 dan 89, beri tahu pasien  bahwa mereka berada dalam kategori prehipertensi. \n",
    "#. Jika sistolik di bawah 120 dan diastolik di bawah 80, beri tahu  pasien bahwa tekanan darahnya normal. Setelah mengecek tekanan darah, cek denyut nadi: \n",
    "#. Jika denyut nadi lebih dari 100 bpm, sarankan untuk memeriksa kondisi kesehatan jantung. \n",
    "#. Jika denyut nadi di bawah 60 bpm, sarankan untuk memeriksa apakah ada gejala lain yang mengiringi bradikardia. \n",
    "#. Jika denyut nadi antara 60 dan 100 bpm, beri tahu pasien bahwa denyut nadi mereka normal.\n",
    "#. Masukan kedalam case 2 di pada fungsi switch yang sudah dibuat"
   ]
  }
 ],
 "metadata": {
  "kernelspec": {
   "display_name": "Python 3",
   "language": "python",
   "name": "python3"
  },
  "language_info": {
   "codemirror_mode": {
    "name": "ipython",
    "version": 3
   },
   "file_extension": ".py",
   "mimetype": "text/x-python",
   "name": "python",
   "nbconvert_exporter": "python",
   "pygments_lexer": "ipython3",
   "version": "3.12.7"
  }
 },
 "nbformat": 4,
 "nbformat_minor": 2
}
