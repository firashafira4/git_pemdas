{
 "cells": [
  {
   "cell_type": "code",
   "execution_count": null,
   "metadata": {},
   "outputs": [
    {
     "name": "stdout",
     "output_type": "stream",
     "text": [
      "Nama: Shafira Aprillia\n",
      "Suhu Tubuh: 40.0\n",
      "Detak Jantung: 110\n",
      "Kode: 1\n",
      "Suhu tubuh normal, tidak ada tindakan khusus yang diperlukan\n"
     ]
    }
   ],
   "source": [
    "nama = input(\"Masukan nama anda !\")\n",
    "suhu_tubuh = float(input(\"Masukan suhu tubuh anda !\"))\n",
    "detak_jantung = int(input(\"Masukan detak jantung anda !\"))\n",
    "kode = int(input(\"Masukan kode !\"))\n",
    "\n",
    "print(f\"Nama: {nama}\")\n",
    "print(f\"Suhu Tubuh: {suhu_tubuh}\")\n",
    "print(f\"Detak Jantung: {detak_jantung}\")\n",
    "print(f\"Kode: {kode}\")\n",
    "\n",
    "match kode:\n",
    "    case 1:\n",
    "        if suhu_tubuh < 37.5:\n",
    "            print(\"Suhu tubuh di atas normal\")\n",
    "            if detak_jantung < 50:\n",
    "                print(\"Detak jantung terlalu tinggi, butuh pemeriksaan lebih lanjut\")\n",
    "            else:\n",
    "                print(\"Detak jantung normal, perbanyak istirahat dan minum cairan\")\n",
    "            if suhu_tubuh > 39 and suhu_tubuh < 50:\n",
    "                print(\"Suhu tubuh sangat tinggi, butuh perhatian medis segera\")\n",
    "                print(\"Harus segera dirawat\")\n",
    "            else:\n",
    "                print(\"Cukup istirahat saja!\")\n",
    "            if detak_jantung > 100:\n",
    "                print(\"Detak jantung terlalu tinggi, butuh pemeriksaan lebih lanjut\")\n",
    "            else:\n",
    "                print(\"Detak jantung normal, perbanyak istirahat dan minum cairan\")\n",
    "        else:\n",
    "            print(\"Suhu tubuh normal, tidak ada tindakan khusus yang diperlukan\")\n",
    "    case 2:\n",
    "        print(\"Masih kosong\")\n",
    "    case 3:\n",
    "        print(\"Masih kosong\")\n",
    "    case _:\n",
    "        print(\"Masukan kode yang valid!\")\n",
    "\n"
   ]
  },
  {
   "cell_type": "code",
   "execution_count": 15,
   "metadata": {},
   "outputs": [
    {
     "name": "stdout",
     "output_type": "stream",
     "text": [
      "Suhu tubuh di atas normal\n",
      "Suhu tubuh sangat tinggi, butuh perhatian medis segera.\n",
      "Detak jantung terlalu tinggi, butuh pemeriksaan lebih lanjut.\n"
     ]
    }
   ],
   "source": [
    "suhu_tubuh = 39.5\n",
    "\n",
    "detak_jantung = 110\n",
    "\n",
    "if suhu_tubuh > 37.5:\n",
    "    print(\"Suhu tubuh di atas normal\")\n",
    "    if suhu_tubuh > 39:\n",
    "        print(\"Suhu tubuh sangat tinggi, butuh perhatian medis segera.\")\n",
    "    else:\n",
    "        print(\"suhu\")\n",
    "    if detak_jantung > 100:\n",
    "        print(\"Detak jantung terlalu tinggi, butuh pemeriksaan lebih lanjut.\")\n",
    "    else:\n",
    "        print(\"Detak jantung normal, perbanyak istirahat dan minum cairan.\")\n",
    "else:\n",
    "    print(\"Suhu tubuh normal, tidak ada tindakan khusus yang diperlukan.\")"
   ]
  },
  {
   "cell_type": "code",
   "execution_count": 18,
   "metadata": {},
   "outputs": [
    {
     "name": "stdout",
     "output_type": "stream",
     "text": [
      "Hari rabu adalah pertengahan minggu.\n"
     ]
    }
   ],
   "source": [
    "hari = \"Rabu\"\n",
    "\n",
    "match hari:\n",
    "    case \"Senin\":\n",
    "        print(\"Hari senin adalah awal minggu kerja.\")\n",
    "    case \"Selasa\":\n",
    "        print(\"Hari selasa adalah hari kkedua dalam minggu kerja.\")\n",
    "    case \"Rabu\":\n",
    "        print(\"Hari rabu adalah pertengahan minggu.\")\n",
    "    case \"Kamis\":\n",
    "        print(\"Hari kamis mendekati akhir minggu kerja.\")\n",
    "    case \"Jumat\":\n",
    "        print(\"Hari jumat adalah hari terakhir minggu kerja.\")\n",
    "    case \"Sabtu\" | \"Minggu\":\n",
    "        print(\"Akhir pekan, waktu untuk beristirahat.\")\n",
    "    case _:\n",
    "        print(\"Masukan hari yang valid.\")"
   ]
  }
 ],
 "metadata": {
  "kernelspec": {
   "display_name": "Python 3",
   "language": "python",
   "name": "python3"
  },
  "language_info": {
   "codemirror_mode": {
    "name": "ipython",
    "version": 3
   },
   "file_extension": ".py",
   "mimetype": "text/x-python",
   "name": "python",
   "nbconvert_exporter": "python",
   "pygments_lexer": "ipython3",
   "version": "3.12.7"
  }
 },
 "nbformat": 4,
 "nbformat_minor": 2
}
