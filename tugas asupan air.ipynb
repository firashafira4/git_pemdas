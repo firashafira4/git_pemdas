{
 "cells": [
  {
   "cell_type": "code",
   "execution_count": 1,
   "metadata": {},
   "outputs": [
    {
     "name": "stdout",
     "output_type": "stream",
     "text": [
      "Nama: Shafira Aprillia\n",
      "Usia: 19\n",
      "Jenis Kelamin: perempuan\n",
      "Rekomendasi: 2.0 liter\n"
     ]
    }
   ],
   "source": [
    "# user input usia dan jenis kelamin\n",
    "nama = input(\"Masukan nama anda !\")\n",
    "usia = int(input(\"Masukan usia anda !\"))\n",
    "jk = input(\"Masukan jenis kelamin anda !\")\n",
    "\n",
    "# untuk mengeprint usia dan jenis kelamin yang diinputkan\n",
    "print(f\"Nama: {nama}\")\n",
    "print(f\"Usia: {usia}\")\n",
    "print(f\"Jenis Kelamin: {jk}\")\n",
    "\n",
    "# kondisi if-elif-else\n",
    "if usia < 2:\n",
    "    print(\"Rekomendasi: Masih di beri ASI\")\n",
    "elif 3 <= usia <= 18:\n",
    "    if jk == \"laki-laki\":\n",
    "        print(\"Rekomendasi: 1.6 liter\")\n",
    "    elif jk == \"perempuan\":\n",
    "        print(\"Rekomendasi: 1.4 liter\")\n",
    "    else:\n",
    "        print(\"Jenis kelamin tidak valid!\")\n",
    "elif 18 <= usia <= 64:\n",
    "    if jk == \"laki-laki\":\n",
    "        print(\"Rekomendasi: 2.5 liter\")\n",
    "    elif jk == \"perempuan\":\n",
    "        print(\"Rekomendasi: 2.0 liter\")\n",
    "    else:\n",
    "        print(\"Jenis kelamin tidak valid!\")\n",
    "elif usia >= 65:\n",
    "    if jk == \"laki-laki\":\n",
    "        print(\"Rekomendasi: 2.0 liter\")\n",
    "    elif jk == \"perempuan\":\n",
    "        print(\"Rekomendasi: 1.8 liter\")\n",
    "    else:\n",
    "        print(\"Jenis kelamin tidak valid!\")"
   ]
  }
 ],
 "metadata": {
  "kernelspec": {
   "display_name": "Python 3",
   "language": "python",
   "name": "python3"
  },
  "language_info": {
   "codemirror_mode": {
    "name": "ipython",
    "version": 3
   },
   "file_extension": ".py",
   "mimetype": "text/x-python",
   "name": "python",
   "nbconvert_exporter": "python",
   "pygments_lexer": "ipython3",
   "version": "3.12.7"
  }
 },
 "nbformat": 4,
 "nbformat_minor": 2
}
