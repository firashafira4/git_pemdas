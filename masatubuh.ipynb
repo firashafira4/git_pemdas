{
 "cells": [
  {
   "cell_type": "code",
   "execution_count": 1,
   "metadata": {},
   "outputs": [
    {
     "name": "stdout",
     "output_type": "stream",
     "text": [
      "Nama: Shafira Aprillia\n",
      "Berat Badan: 45.0\n",
      "Tinggi Badan: 157.0\n",
      "IMT: 18.26 - Kategori: Underweight\n",
      "Nama: Fira\n",
      "Berat Badan: 50.0\n",
      "Tinggi Badan: 160.0\n",
      "IMT: 19.53 - Kategori: Normal weight\n"
     ]
    }
   ],
   "source": [
    "# fungsi untuk menghitung berat badan dan tinggi badan\n",
    "def hitung_IMT(weight, height):\n",
    "    return weight / ((height/100)** 2)\n",
    "\n",
    "# kondisi index masa tubuh\n",
    "def kategori_kesehatan(imt):\n",
    "    if imt < 18.5:\n",
    "        return \"Underweight\"\n",
    "    elif 18.5 <= imt < 25:\n",
    "        return \"Normal weight\"\n",
    "    elif 25 <= imt < 30:\n",
    "        return \"Overweight\"\n",
    "    else:\n",
    "        return \"Obesity\"\n",
    "\n",
    "def main():\n",
    "    while True:\n",
    "        # input pengguna\n",
    "        try:\n",
    "            nama = input(\"Masukan nama anda!!\")\n",
    "            weight = float(input(\"Masukkan berat badan (kg): \"))\n",
    "            height = float(input(\"Masukkan tinggi badan (m): \"))\n",
    "        except ValueError:\n",
    "            print(\"Input tidak valid. Harap masukkan angka.\")\n",
    "            continue\n",
    "\n",
    "        # mengeprint hasil inputan yang sudh diinputkan\n",
    "        print(f\"Nama: {nama}\")\n",
    "        print(f\"Berat Badan: {weight}\")\n",
    "        print(f\"Tinggi Badan: {height}\")\n",
    "        \n",
    "        # menghitung index masa tubuh\n",
    "        imt = hitung_IMT(weight, height)\n",
    "        kategori = kategori_kesehatan(imt)\n",
    "\n",
    "        # menampilkan hasil output\n",
    "        print(f\"IMT: {imt:.2f} - Kategori: {kategori}\")\n",
    "\n",
    "        # perulangan untuk pengguna apakah akan menginput lagi atau tidak\n",
    "        lagi = input(\"Ingin memasukkan data lagi? (ya/tidak): \").strip().lower()\n",
    "        if lagi != 'ya':\n",
    "            break\n",
    "\n",
    "if __name__ == \"__main__\":\n",
    "    main()\n"
   ]
  },
  {
   "cell_type": "code",
   "execution_count": null,
   "metadata": {},
   "outputs": [],
   "source": [
    "\n",
    "\n",
    "\n",
    "    "
   ]
  }
 ],
 "metadata": {
  "kernelspec": {
   "display_name": "Python 3",
   "language": "python",
   "name": "python3"
  },
  "language_info": {
   "codemirror_mode": {
    "name": "ipython",
    "version": 3
   },
   "file_extension": ".py",
   "mimetype": "text/x-python",
   "name": "python",
   "nbconvert_exporter": "python",
   "pygments_lexer": "ipython3",
   "version": "3.12.7"
  }
 },
 "nbformat": 4,
 "nbformat_minor": 2
}
